{
 "cells": [
  {
   "cell_type": "markdown",
   "metadata": {},
   "source": [
    "# PPE Equipment Detection - Webcam"
   ]
  },
  {
   "cell_type": "code",
   "execution_count": null,
   "metadata": {},
   "outputs": [],
   "source": [
    "# Import necessary libraries\n",
    "import cv2\n",
    "from ultralytics import YOLO\n",
    "\n",
    "# Load the trained YOLOv8 model\n",
    "model = YOLO('model/best_version_3.pt')\n"
   ]
  },
  {
   "cell_type": "code",
   "execution_count": null,
   "metadata": {},
   "outputs": [],
   "source": [
    "# Initialize the webcam\n",
    "cap = cv2.VideoCapture(0)  # 0 is the default webcam\n"
   ]
  },
  {
   "cell_type": "code",
   "execution_count": null,
   "metadata": {},
   "outputs": [],
   "source": [
    "# Function to process each frame\n",
    "def process_frame(frame):\n",
    "    # Reduce the size of the frame for faster processing\n",
    "    resized_frame = cv2.resize(frame, (640, 480))\n",
    "    \n",
    "    # Run YOLOv8 inference on the frame\n",
    "    results = model(resized_frame)\n",
    "    \n",
    "    # Draw the results on the frame\n",
    "    for result in results:\n",
    "        boxes = result.boxes.xyxy.cpu().numpy()  # xyxy (N, 4)\n",
    "        confs = result.boxes.conf.cpu().numpy()  # (N,)\n",
    "        class_ids = result.boxes.cls.cpu().numpy()  # (N,)\n",
    "        for box, conf, class_id in zip(boxes, confs, class_ids):\n",
    "            x1, y1, x2, y2 = map(int, box)\n",
    "            label = model.names[int(class_id)]  # Get the class name\n",
    "            cv2.rectangle(resized_frame, (x1, y1), (x2, y2), (0, 255, 0), 2)\n",
    "            cv2.putText(resized_frame, f'{label} {conf:.2f}', (x1, y1 - 10), cv2.FONT_HERSHEY_SIMPLEX, 0.9, (0, 255, 0), 2)\n",
    "    return resized_frame\n"
   ]
  },
  {
   "cell_type": "code",
   "execution_count": null,
   "metadata": {},
   "outputs": [],
   "source": [
    "# Process the video and display the results\n",
    "import time\n",
    "\n",
    "try:\n",
    "    frame_skip = 1  # Process every 2nd frame to reduce load\n",
    "    frame_count = 0\n",
    "    \n",
    "    while True:\n",
    "        # Capture frame-by-frame\n",
    "        ret, frame = cap.read()\n",
    "        if not ret:\n",
    "            break\n",
    "        \n",
    "        frame_count += 1\n",
    "        if frame_count % frame_skip != 0:\n",
    "            continue\n",
    "        \n",
    "        # Process the frame\n",
    "        start_time = time.time()\n",
    "        processed_frame = process_frame(frame)\n",
    "        end_time = time.time()\n",
    "        \n",
    "        # Calculate and display the frame processing time\n",
    "        fps = 1 / (end_time - start_time)\n",
    "        cv2.putText(processed_frame, f'FPS: {fps:.2f}', (10, 30), cv2.FONT_HERSHEY_SIMPLEX, 1, (255, 0, 0), 2)\n",
    "        \n",
    "        # Display the resulting frame\n",
    "        cv2.imshow('YOLOv8 Video Test', processed_frame)\n",
    "        \n",
    "        # Break the loop on 'q' key press\n",
    "        if cv2.waitKey(1) & 0xFF == ord('q'):\n",
    "            break\n",
    "finally:\n",
    "    # Release the video capture and close windows\n",
    "    cap.release()\n",
    "    cv2.destroyAllWindows()\n"
   ]
  },
  {
   "cell_type": "code",
   "execution_count": null,
   "metadata": {},
   "outputs": [],
   "source": [
    "# Release the webcam and close windows if not already done\n",
    "cap.release()\n",
    "cv2.destroyAllWindows()\n"
   ]
  }
 ],
 "metadata": {
  "kernelspec": {
   "display_name": "yolov8-env",
   "language": "python",
   "name": "python3"
  },
  "language_info": {
   "codemirror_mode": {
    "name": "ipython",
    "version": 3
   },
   "file_extension": ".py",
   "mimetype": "text/x-python",
   "name": "python",
   "nbconvert_exporter": "python",
   "pygments_lexer": "ipython3",
   "version": "3.9.19"
  }
 },
 "nbformat": 4,
 "nbformat_minor": 2
}
