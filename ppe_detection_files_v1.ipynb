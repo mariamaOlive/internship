{
 "cells": [
  {
   "cell_type": "markdown",
   "metadata": {},
   "source": [
    "# PPE Equipment Detection - v1\n",
    "\n",
    "This notebook loads a computer vision model capable of detecting the following protection equipments:\n",
    "- Helmet\n",
    "- Mask\n",
    "- Vest\n",
    "- Googles\n",
    "- Head Cap"
   ]
  },
  {
   "cell_type": "markdown",
   "metadata": {},
   "source": [
    "Importing Libraries"
   ]
  },
  {
   "cell_type": "code",
   "execution_count": null,
   "metadata": {},
   "outputs": [],
   "source": [
    "from ultralytics import YOLO\n",
    "from pathlib import Path"
   ]
  },
  {
   "cell_type": "markdown",
   "metadata": {},
   "source": [
    "Load Model"
   ]
  },
  {
   "cell_type": "code",
   "execution_count": null,
   "metadata": {},
   "outputs": [],
   "source": [
    "# Load a model\n",
    "# model = YOLO(\"model/best_version_1.pt\") # Choose here model to load \n",
    "model = YOLO(\"model/best_version_2.pt\") # Choose here model to load --> This model includes hairnet"
   ]
  },
  {
   "cell_type": "markdown",
   "metadata": {},
   "source": [
    "Image Detection"
   ]
  },
  {
   "cell_type": "code",
   "execution_count": null,
   "metadata": {},
   "outputs": [],
   "source": [
    "# Image Detection\n",
    "def inference_image(model, files_folder, confidence, chosen_classes):\n",
    "    files_folder = Path(files_folder)\n",
    "    files_list = list(files_folder.glob('*.jpg')) + list(files_folder.glob('*.png')) + list(files_folder.glob('*.jpeg'))\n",
    "\n",
    "    for file in files_list:\n",
    "        model.predict(file, conf = confidence, classes = chosen_classes, save=True)  "
   ]
  },
  {
   "cell_type": "code",
   "execution_count": null,
   "metadata": {},
   "outputs": [],
   "source": [
    "# Run image detection\n",
    "# The results are under runs/detect/predict\n",
    "folder_files = \"files_detection/images\"\n",
    "\n",
    "# Set detection parameters\n",
    "confidence = .8\n",
    "# chosen_classes = [0, 1, 2, 3] # Model vesion_1 --> ['goggles' = 0, 'helmet' = 1, 'mask' = 2, 'vest' = 3]\n",
    "chosen_classes = [0, 1, 2, 3, 4] #  Model vesion_2 -->  ['goggles' = 0, 'hairnet' = 1, 'helmet' = 2, 'mask' = 3, 'vest' = 4] \n",
    "\n",
    "# Perfom detection\n",
    "inference_image(model, folder_files, confidence, chosen_classes)\n"
   ]
  },
  {
   "cell_type": "markdown",
   "metadata": {},
   "source": [
    "Video Detection"
   ]
  },
  {
   "cell_type": "code",
   "execution_count": null,
   "metadata": {},
   "outputs": [],
   "source": [
    "# Video Detection\n",
    "def inference_video(model, files_folder, confidence, chosen_classes):\n",
    "    files_folder = Path(files_folder)\n",
    "    files_list = list(files_folder.glob('*.avi')) + list(files_folder.glob('*.mp4'))\n",
    "\n",
    "    for file in files_list:\n",
    "        model.predict(file, conf = confidence, classes = chosen_classes, save=True)"
   ]
  },
  {
   "cell_type": "code",
   "execution_count": null,
   "metadata": {},
   "outputs": [],
   "source": [
    "# Run video detection\n",
    "# The results are under runs/detect/predict\n",
    "\n",
    "# Folder to place the videos\n",
    "folder_files = \"files_detection/videos\"\n",
    "\n",
    "# Set detection parameters\n",
    "confidence = .5\n",
    "# chosen_classes = [0, 1, 2, 3] # Model vesion_1 --> ['goggles' = 0, 'helmet' = 1, 'mask' = 2, 'vest' = 3]\n",
    "chosen_classes = [0, 1, 2, 3, 4] #  Model vesion_2 -->  ['goggles' = 0, 'hairnet' = 1, 'helmet' = 2, 'mask' = 3, 'vest' = 4] \n",
    "\n",
    "# Perfom detection\n",
    "inference_video(model, folder_files, confidence, chosen_classes)"
   ]
  }
 ],
 "metadata": {
  "kernelspec": {
   "display_name": "internship",
   "language": "python",
   "name": "python3"
  },
  "language_info": {
   "codemirror_mode": {
    "name": "ipython",
    "version": 3
   },
   "file_extension": ".py",
   "mimetype": "text/x-python",
   "name": "python",
   "nbconvert_exporter": "python",
   "pygments_lexer": "ipython3",
   "version": "3.9.19"
  }
 },
 "nbformat": 4,
 "nbformat_minor": 2
}
